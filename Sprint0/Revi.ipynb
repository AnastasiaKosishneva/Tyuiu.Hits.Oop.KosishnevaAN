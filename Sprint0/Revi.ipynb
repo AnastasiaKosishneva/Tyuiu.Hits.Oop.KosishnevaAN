{
 "cells": [
  {
   "cell_type": "code",
   "execution_count": 6,
   "metadata": {
    "dotnet_interactive": {
     "language": "csharp"
    },
    "polyglot_notebook": {
     "kernelName": "csharp"
    },
    "vscode": {
     "languageId": "polyglot-notebook"
    }
   },
   "outputs": [
    {
     "name": "stdout",
     "output_type": "stream",
     "text": [
      "Растение: Роза - типа Цветок ЦВЕТЕТ!\n",
      "Высота Роза - 20 см.\n",
      "Цвет цветка - Красный\n"
     ]
    }
   ],
   "source": [
    "public class Plant\n",
    "{\n",
    "    public string Name { get; set; } \n",
    "    public string Type { get; set; }\n",
    "    public float Height { get; set; }\n",
    "\n",
    "    public virtual void Blossom() // Цветение                          virtual позволяет методам переопределяться в производных классах\n",
    "    {\n",
    "        Console.WriteLine($\"Растение: {Name} - типа {Type} ЦВЕТЕТ!\");\n",
    "    }\n",
    "\n",
    "    public virtual void Growing() // Растет\n",
    "    {\n",
    "        Console.WriteLine($\"Высота {Name} - {Height} см.\");\n",
    "    }\n",
    "}\n",
    "\n",
    "public class Flower : Plant\n",
    "{\n",
    "    public string Colour { get; set; }\n",
    "\n",
    "    public override void Growing() //переопредеоение\n",
    "    {\n",
    "        base.Growing(); // вызываем метод базового класса  + нью инофрмация\n",
    "        Console.WriteLine($\"Цвет цветка - {Colour}\");\n",
    "    }\n",
    "}\n",
    "\n",
    "// Создание объекта\n",
    "Flower myFlower = new Flower { Name = \"Роза\", Type = \"Цветок\", Height = 20, Colour = \"Красный\" };\n",
    "\n",
    "//Новый тип Flower + новый объекты и методы.\n",
    "//\n",
    "\n",
    "myFlower.Blossom();\n",
    "myFlower.Growing();"
   ]
  }
 ],
 "metadata": {
  "kernelspec": {
   "display_name": ".NET (C#)",
   "language": "C#",
   "name": ".net-csharp"
  },
  "language_info": {
   "name": "csharp"
  },
  "polyglot_notebook": {
   "kernelInfo": {
    "defaultKernelName": "csharp",
    "items": [
     {
      "aliases": [],
      "name": "csharp"
     }
    ]
   }
  }
 },
 "nbformat": 4,
 "nbformat_minor": 2
}

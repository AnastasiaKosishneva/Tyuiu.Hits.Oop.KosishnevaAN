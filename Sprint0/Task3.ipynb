{
 "cells": [
  {
   "cell_type": "markdown",
   "metadata": {},
   "source": [
    "<h1 style=\"color:DodgerBlue\">Индивидальный проект</h1>"
   ]
  },
  {
   "cell_type": "markdown",
   "metadata": {},
   "source": [
    "<h2 style=\"color:DodgerBlue\">Название проекта:</h2>\n",
    "\n",
    "----\n",
    "\n",
    "### Вариант задания 6\n"
   ]
  },
  {
   "cell_type": "markdown",
   "metadata": {},
   "source": [
    "<h2 style=\"color:DodgerBlue\">Описание проекта:</h2>\n",
    "\n",
    "----\n",
    "Описание задачи:\n",
    "Создать базовый класс Movie в C#, который будет представлять информацию о \n",
    "фильмах. На основе этого класса разработать 2-3 производных класса, \n",
    "демонстрирующих принципы наследования и полиморфизма. В каждом из классов \n",
    "должны быть реализованы новые атрибуты и методы, а также переопределены \n",
    "некоторые методы базового класса для демонстрации полиморфизма.\n",
    "Требования к базовому классу Movie:\n",
    "• Атрибуты: Название (Title), Режиссер (Director), Год выпуска (ReleaseYear).\n",
    "• Методы:\n",
    "o GetInfo(): метод для получения информации о фильме в виде строки.\n",
    "o Watch(): метод для вывода сообщения о просмотре фильма.\n",
    "o Rate(): метод для оценки фильма.\n",
    "Требования к производным классам:\n",
    "1. Документальный фильм (Documentary): Должен содержать дополнительные \n",
    "атрибуты, такие как Тематика (Theme). Метод Watch() должен быть \n",
    "переопределен для добавления информации о тематике при просмотре \n",
    "документального фильма.\n",
    "2. Игровой фильм (FeatureFilm): Должен содержать дополнительные атрибуты, \n",
    "такие как Жанр (Genre). Метод Rate() должен быть переопределен для \n",
    "добавления логики оценки в зависимости от жанра.\n",
    "3. Анимационный фильм (AnimatedMovie) (если требуется третий класс): \n",
    "Должен содержать дополнительные атрибуты, такие как Студия анимации \n",
    "(AnimationStudio). Метод GetInfo() должен быть переопределен для \n",
    "включения информации о студии анимации в описании фильма.\n"
   ]
  },
  {
   "cell_type": "markdown",
   "metadata": {},
   "source": [
    "<h2 style=\"color:DodgerBlue\">Реализация:</h2>\n",
    "\n",
    "----"
   ]
  },
  {
   "cell_type": "code",
   "execution_count": 18,
   "metadata": {
    "dotnet_interactive": {
     "language": "csharp"
    },
    "polyglot_notebook": {
     "kernelName": "csharp"
    }
   },
   "outputs": [
    {
     "name": "stdout",
     "output_type": "stream",
     "text": [
      "Фильм: Зарождение Земли, Режиссер: NASA, Год выпуска: 2021\n",
      "Зарождение Земли был просмотрен\n",
      "Тема фильма: Наука\n",
      "Рейтинг фильма Зарождение Земли: 10/10\n",
      "\n",
      "Фильм: Война миров Z, Режиссер: Марк Форстер, Год выпуска: 2013\n",
      "Война миров Z был просмотрен\n",
      "Рейтинг фильма Война миров Z: 7/10\n",
      "Жанр фильма: приключения, боевик, ужасы, фантастика\n",
      "\n",
      "Фильм: Головоломvка 2, Режиссер: Келс Манн, Год выпуска: 2024\n",
      "Студия анимации: Pixar\n",
      "Головоломvка 2 был просмотрен\n",
      "Рейтинг фильма Головоломvка 2: 9/10\n"
     ]
    }
   ],
   "source": [
    "//Полиморфизм - это способность объектов одного класса представлять объекты других классов,\n",
    "///которые имеют общий базовый класс или интерфейс. \n",
    "\n",
    "//Полиморфизм реализован через методы GetInfo, Watch и Rate\n",
    "\n",
    "public class Movie //БАЗОВЫЙ КЛАСС\n",
    "{\n",
    "    //СВОЙСВА\n",
    "    public string Title { get; set; } \n",
    "    public string Director { get; set; }\n",
    "    public int ReleaseYear { get; set; }\n",
    "  \n",
    "    //МЕТОДЫ, общий интерфейс\n",
    "    //virtual позволяет методам переопределяться в производных классах\n",
    "    public virtual void GetInfo()\n",
    "    {\n",
    "        Console.WriteLine($\"Фильм: {Title}, Режиссер: {Director}, Год выпуска: {ReleaseYear}\");\n",
    "    }\n",
    "\n",
    "    public virtual void Watch()\n",
    "    {\n",
    "        Console.WriteLine($\"{Title} был просмотрен\");\n",
    "    }\n",
    "\n",
    "    public virtual void Rate(int rating)\n",
    "    {\n",
    "        Console.WriteLine($\"Рейтинг фильма {Title}: {rating}/10\");\n",
    "    }\n",
    "}\n",
    "\n",
    "     //ПРОИЗВОДНЫЕ КЛАССЫ, дочерний класс получает свойства и методы родительского класса, спецификации\n",
    "     //В каждом из этих классов мы переопределяем один или несколько методов базового класса. \n",
    "     //Метод override указывает, что этот метод должен заменить метод с тем же именем в родительском классе.\n",
    "\n",
    "public class Documentary : Movie\n",
    "{\n",
    "    public string Theme { get; set; }\n",
    "\n",
    "    public override void Watch()  //в классе Documentary мы переопределяем метод Watch():\n",
    "    {\n",
    "        base.Watch(); // вызываем метод базового класса\n",
    "        Console.WriteLine($\"Тема фильма: {Theme}\");\n",
    "    }\n",
    "}\n",
    "public class FeatureFilm : Movie\n",
    "{\n",
    "    public string Genre { get; set; }\n",
    "\n",
    "    public override void Rate(int rating)\n",
    "    {\n",
    "        base.Rate(rating);\n",
    "        Console.WriteLine($\"Жанр фильма: {Genre}\");\n",
    "    }\n",
    "}\n",
    "public class AnimatedMovie : Movie\n",
    "{\n",
    "    public string AnimationStudio { get; set; }\n",
    "\n",
    "    public override void GetInfo()\n",
    "    {\n",
    "        base.GetInfo();\n",
    "        Console.WriteLine($\"Студия анимации: {AnimationStudio}\");\n",
    "    }\n",
    "}\n",
    "\n",
    "var documentary = new Documentary { Title = \"Зарождение Земли\", Director = \"NASA\", ReleaseYear = 2021, Theme = \"Наука\" };\n",
    "var featureFilm = new FeatureFilm { Title = \"Война миров Z\", Director = \"Марк Форстер\", ReleaseYear = 2013, Genre = \"приключения, боевик, ужасы, фантастика\" };\n",
    "var animatedMovie = new AnimatedMovie { Title = \"Головоломvка 2\", Director = \"Келс Манн\", ReleaseYear = 2024, AnimationStudio = \"Pixar\" };\n",
    "\n",
    "        // Вызываем методы для каждого типа фильма\n",
    "\n",
    "\n",
    "documentary.GetInfo(); \n",
    "\n",
    "//компилятор видит, что это метод базового класса Movie. \n",
    "//Однако при выполнении программы, реальная реализация будет взята из класса Documentary.\n",
    "// Это является ключевой особенностью полиморфизма\n",
    "\n",
    "documentary.Watch();\n",
    "documentary.Rate(10);\n",
    "Console.WriteLine();\n",
    "\n",
    "\n",
    "featureFilm.GetInfo();\n",
    "featureFilm.Watch();\n",
    "featureFilm.Rate(7);\n",
    "Console.WriteLine();\n",
    "\n",
    "\n",
    "animatedMovie.GetInfo();\n",
    "animatedMovie.Watch();\n",
    "animatedMovie.Rate(9);\n",
    "\n",
    "//класс Movie предоставляет общую структуру,\n",
    "//а производные классы расширяют эту структуру, переопределяя методы для более специфичной реализации."
   ]
  }
 ],
 "metadata": {
  "kernelspec": {
   "display_name": ".NET (C#)",
   "language": "C#",
   "name": ".net-csharp"
  },
  "polyglot_notebook": {
   "kernelInfo": {
    "defaultKernelName": "csharp",
    "items": [
     {
      "aliases": [],
      "languageName": "csharp",
      "name": "csharp"
     }
    ]
   }
  }
 },
 "nbformat": 4,
 "nbformat_minor": 2
}

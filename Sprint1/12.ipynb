{
 "cells": [
  {
   "cell_type": "code",
   "execution_count": 5,
   "metadata": {
    "dotnet_interactive": {
     "language": "csharp"
    },
    "polyglot_notebook": {
     "kernelName": "csharp"
    },
    "vscode": {
     "languageId": "polyglot-notebook"
    }
   },
   "outputs": [
    {
     "name": "stdout",
     "output_type": "stream",
     "text": [
      "Информация о товаре: Название товара:айфон, цена товара за 1 шт:999,99, всего:100 шт., категория:телефон\n",
      "Сколько продано товаров? товар:айфон продано:5\n",
      "Настя добавил ноутбук по цене 1500 10 штук\n",
      "Инофрмация о магазине: Название магазина:ЭПЛ локация:Кристалл где хранятся:Магазин\n",
      "Инофрмация о сотруднике: Имя продавца:Настя, сотрудник:Прродавец, зарплата:50000, котакты :настя@example.com\n"
     ]
    }
   ],
   "source": [
    "public class Product\n",
    "{\n",
    "    private string Name {get; set;}\n",
    "    private decimal Price {get; set;} //цена\n",
    "    private int Quantity {get; set;} //кол\n",
    "    protected string Category {get; set;}\n",
    "    internal string Description {get; set;} //описание\n",
    "\n",
    "    public Product(string name, decimal price, int quantity, string category, string description)\n",
    "    {\n",
    "        Name = name;\n",
    "        Price = price;\n",
    "        Quantity = quantity;\n",
    "        Category = category;\n",
    "        Description = description;\n",
    "    }\n",
    "\n",
    "    public decimal GetTotalPrice()\n",
    "    {\n",
    "        return Price * Quantity;  \n",
    "    }\n",
    "\n",
    "    public void UpdateQuantity(int amount)\n",
    "    {\n",
    "        Quantity += amount;\n",
    "    }\n",
    "\n",
    "    public string GetProductInfo()\n",
    "    {\n",
    "        return $\"Информация о товаре: Название товара:{Name}, цена товара за 1 шт:{Price}, всего:{Quantity} шт., категория:{Category}\";\n",
    "    }\n",
    "}\n",
    "\n",
    "public class Seller //продавец\n",
    "{\n",
    "    private string Name;\n",
    "    private string EmployeeId; //сотрудники\n",
    "    protected decimal Salary; //зарплата\n",
    "    internal string ContactInfo; //контакты \n",
    "\n",
    "    public Seller(string name, string employeeId, decimal salary, string contactInfo)\n",
    "    {\n",
    "        Name = name;\n",
    "        EmployeeId = employeeId;\n",
    "        Salary = salary;\n",
    "        ContactInfo = contactInfo;\n",
    "    }\n",
    "\n",
    "    public void AddProduct(string productName, decimal price, int quantity)\n",
    "    {\n",
    "        Console.WriteLine($\"{Name} добавил {productName} по цене {price} {quantity} штук\");\n",
    "    }\n",
    "\n",
    "    public void SellProduct(string productName, int quantity)\n",
    "    {\n",
    "        Console.WriteLine($\"Сколько продано товаров? товар:{productName} продано:{quantity}\");\n",
    "    }\n",
    "\n",
    "    public string GetSellerInfo()\n",
    "    {\n",
    "        return $\"Инофрмация о сотруднике: Имя продавца:{Name}, сотрудник:{EmployeeId}, зарплата:{Salary}, котакты :{ContactInfo}\";\n",
    "    }\n",
    "}\n",
    "\n",
    "public class Store\n",
    "{\n",
    "    private string StoreName;\n",
    "    private string Location; //локация\n",
    "    public string StoreHours; //хранение\n",
    "\n",
    "    public Store(string storeName, string location, string storeHours)\n",
    "    {\n",
    "        StoreName = storeName;\n",
    "        Location = location;\n",
    "        StoreHours = storeHours;\n",
    "    }\n",
    "    public void AddSeller(string nameSeller) //+продовец\n",
    "    {\n",
    "        Console.WriteLine($\" Добавлен продавец {nameSeller} в магазин {nameSeller}\");\n",
    "    }\n",
    "\n",
    "    public void ListProducts(List<Product> products)\n",
    "    {\n",
    "        foreach (var product in products)\n",
    "        {\n",
    "            Console.WriteLine(product.GetProductInfo());\n",
    "        }\n",
    "    }\n",
    "\n",
    "    public string GetStoreInfo()\n",
    "    {\n",
    "        return $\"Инофрмация о магазине: Название магазина:{StoreName} локация:{Location} где хранятся:{StoreHours}\";\n",
    "    }\n",
    "}\n",
    "\n",
    "\n",
    "// Создание продуктов\n",
    "var product1 = new Product(\"айфон\", 999.99m, 100, \"телефон\", \"афон-эпл\");\n",
    "\n",
    "// Создание списка продуктов\n",
    "List<Product> products = new List<Product>();\n",
    "products.Add(product1);\n",
    "\n",
    "// Создание продавца\n",
    "var seller = new Seller(\"Настя\", \"Прродавец\", 50000, \"настя@example.com\");\n",
    "\n",
    "// Создание магазина\n",
    "var store = new Store(\"ЭПЛ\", \"Кристалл\", \"Магазин\");\n",
    "\n",
    "// Действия с продуктами и продавцом\n",
    "store.ListProducts(products); // Вывод информации о продуктах\n",
    "seller.SellProduct(\"айфон\", 5); // Продажа 5 штук продукта \"айфон\"\n",
    "seller.AddProduct(\"ноутбук\", 1500, 10); // Добавление нового продукта\n",
    "Console.WriteLine(store.GetStoreInfo()); // Вывод информации о магазине\n",
    "Console.WriteLine(seller.GetSellerInfo()); // Вывод информации о продавце\n",
    "\n"
   ]
  }
 ],
 "metadata": {
  "kernelspec": {
   "display_name": ".NET (C#)",
   "language": "C#",
   "name": ".net-csharp"
  },
  "language_info": {
   "name": "csharp"
  },
  "polyglot_notebook": {
   "kernelInfo": {
    "defaultKernelName": "csharp",
    "items": [
     {
      "aliases": [],
      "name": "csharp"
     }
    ]
   }
  }
 },
 "nbformat": 4,
 "nbformat_minor": 2
}

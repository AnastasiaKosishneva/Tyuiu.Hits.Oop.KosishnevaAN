{
 "cells": [
  {
   "cell_type": "markdown",
   "metadata": {},
   "source": [
    "<h1 style=\"color:DodgerBlue\">Индивидальный проект</h1>"
   ]
  },
  {
   "cell_type": "markdown",
   "metadata": {},
   "source": [
    "<h2 style=\"color:DodgerBlue\">Название проекта:</h2>\n",
    "\n",
    "----\n",
    "\n",
    "### Вариант задания \n"
   ]
  },
  {
   "cell_type": "markdown",
   "metadata": {},
   "source": [
    "<h2 style=\"color:DodgerBlue\">Описание проекта:</h2>\n",
    "\n",
    "----\n",
    "\n",
    "[ваш текст]\n",
    "\n",
    "#### Дополнительное задание\n",
    "Добавьте к сущестующим классам (базовыму и производным 3-4 атрибута и метода) и реализуйте простое, сложное и множественное наследование"
   ]
  },
  {
   "cell_type": "markdown",
   "metadata": {},
   "source": [
    "<h2 style=\"color:DodgerBlue\">Реализация:</h2>\n",
    "\n",
    "----"
   ]
  },
  {
   "cell_type": "code",
   "execution_count": null,
   "metadata": {
    "dotnet_interactive": {
     "language": "csharp"
    },
    "polyglot_notebook": {
     "kernelName": "csharp"
    }
   },
   "outputs": [],
   "source": [
    "public interface IMovie\n",
    "{\n",
    "    void GetInfo();\n",
    "}\n",
    "\n",
    "public interface IWatch\n",
    "{\n",
    "    void Watch();\n",
    "}\n",
    "\n",
    "public interface IRate\n",
    "{\n",
    "    void Rate(int rating);\n",
    "}\n",
    "\n",
    "public class Movie : IMovie, IWatch, IRate //множественное наследование\n",
    "{\n",
    "    public string Title { get; set; }\n",
    "    public string Director { get; set; }\n",
    "    public int ReleaseYear { get; set; }\n",
    "    public decimal Budget { get; set; }\n",
    "    public decimal BoxOfficeRevenue { get; set; }\n",
    "  \n",
    "    public virtual void GetInfo()\n",
    "    {\n",
    "        Console.WriteLine($\"Фильм: {Title}, Режиссер: {Director}, Год выпуска: {ReleaseYear}\");\n",
    "    }\n",
    "\n",
    "    public virtual void Watch()\n",
    "    {\n",
    "        Console.WriteLine($\"{Title} был просмотрен\");\n",
    "    }\n",
    "\n",
    "    public virtual void Rate(int rating)\n",
    "    {\n",
    "        Console.WriteLine($\"Рейтинг фильма {Title}: {rating}/10\");\n",
    "    }\n",
    "\n",
    "    public virtual decimal CalculateProfit()\n",
    "    {\n",
    "        return BoxOfficeRevenue - Budget;\n",
    "    }\n",
    "}\n",
    "\n",
    "public class MovieCategories : Movie\n",
    "{\n",
    "     public string Categories { get; set; }\n",
    "\n",
    "     public virtual void InfoCategories()\n",
    "     {\n",
    "        Console.WriteLine($\"Вы перешли в категорию {Categories}\");\n",
    "\n",
    "     }\n",
    "}\n",
    "\n",
    "public class Documentary : MovieCategories \n",
    "{\n",
    "    public string Theme { get; set; }\n",
    "\n",
    "    public override void Watch()  \n",
    "    {\n",
    "        base.Watch();\n",
    "        Console.WriteLine($\"Тема фильма: {Theme}\");\n",
    "    }\n",
    "}\n",
    "public class FeatureFilm : MovieCategories\n",
    "{\n",
    "    public string Genre { get; set; }\n",
    "\n",
    "    public override void Rate(int rating)\n",
    "    {\n",
    "        base.Rate(rating);\n",
    "        Console.WriteLine($\"Жанр фильма: {Genre}\");\n",
    "    }\n",
    "}\n",
    "public class AnimatedMovie : MovieCategories\n",
    "{\n",
    "    public string AnimationStudio { get; set; }\n",
    "\n",
    "    public override void GetInfo()\n",
    "    {\n",
    "        base.GetInfo();\n",
    "        Console.WriteLine($\"Студия анимации: {AnimationStudio}\");\n",
    "    }\n",
    "}\n",
    "\n",
    "var documentary = new Documentary { Title = \"Зарождение Земли\", Director = \"NASA\", ReleaseYear = 2021, Theme = \"Наука\" };\n",
    "var featureFilm = new FeatureFilm { Title = \"Война миров Z\", Director = \"Марк Форстер\", ReleaseYear = 2013, Genre = \"приключения, боевик, ужасы, фантастика\" };\n",
    "var animatedMovie = new AnimatedMovie { Title = \"Головоломvка 2\", Director = \"Келс Манн\", ReleaseYear = 2024, AnimationStudio = \"Pixar\" };\n",
    "\n",
    "\n",
    "documentary.GetInfo(); \n",
    "documentary.Watch();\n",
    "documentary.Rate(10);\n",
    "Console.WriteLine();"
   ]
  }
 ],
 "metadata": {
  "kernelspec": {
   "display_name": ".NET (C#)",
   "language": "C#",
   "name": ".net-csharp"
  },
  "polyglot_notebook": {
   "kernelInfo": {
    "defaultKernelName": "csharp",
    "items": [
     {
      "aliases": [],
      "languageName": "csharp",
      "name": "csharp"
     }
    ]
   }
  }
 },
 "nbformat": 4,
 "nbformat_minor": 2
}

{
 "cells": [
  {
   "cell_type": "code",
   "execution_count": 4,
   "metadata": {
    "dotnet_interactive": {
     "language": "csharp"
    },
    "polyglot_notebook": {
     "kernelName": "csharp"
    },
    "vscode": {
     "languageId": "polyglot-notebook"
    }
   },
   "outputs": [
    {
     "name": "stdout",
     "output_type": "stream",
     "text": [
      "Имя: Настя Косишнева, Должность: Разработчик, Зарплата: 100000\n",
      "\n",
      "Имя: Лера Шананина, Должность: Менеджер по продажам, Зарплата: 90000\n",
      "Отдел: Продажи\n",
      "\n",
      "Имя: Сергей Попков, Должность: Проектный менеджер, Зарплата: 50000\n",
      "Отдел: ИТ\n",
      "Название проекта: Дизайн сайта\n",
      "\n",
      "Проект Дизайн сайта - ВЫПОЛНЕН\n",
      "Члены команды: Лера, Настя, Нина\n"
     ]
    }
   ],
   "source": [
    "public class Employee //базовый класс\n",
    "{\n",
    "    public string Name { get; set; }\n",
    "    public string Position { get; set; }\n",
    "    public double Salary { get; set; }\n",
    "    public Employee(string name, string position, double salary) //КОНСТРУКТОР\n",
    "    {\n",
    "        Name = name;\n",
    "        Position = position;\n",
    "        Salary = salary;\n",
    "    }\n",
    "    public virtual void PrintInfo() //метод\n",
    "    {\n",
    "        Console.WriteLine($\"Имя: {Name}, Должность: {Position}, Зарплата: {Salary}\");\n",
    "    }\n",
    "}\n",
    "\n",
    "\n",
    "\n",
    "// Класс Manager (Менеджер), наследующий от Employee\n",
    "public class Manager : Employee //простое наследование\n",
    "{\n",
    "    public string Department { get; set; }\n",
    "\n",
    "    public Manager(string name, string position, double salary, string department) : base(name, position, salary)\n",
    "    {\n",
    "        Department = department;\n",
    "    }\n",
    "    public override void PrintInfo()\n",
    "    {\n",
    "        base.PrintInfo();\n",
    "        Console.WriteLine($\"Отдел: {Department}\");\n",
    "    }\n",
    "}\n",
    "\n",
    "public interface IReportable\n",
    "{\n",
    "    string GenerateReport();\n",
    "}\n",
    "\n",
    "public interface ITeamLeader\n",
    "{\n",
    "    string[] GetTeamMembers();\n",
    "}\n",
    "\n",
    "\n",
    "// Проектный менеджер\n",
    "public class ProjectManager : Manager, IReportable, ITeamLeader //сложное наследование \n",
    "{\n",
    "    public string ProjectName { get; set; }\n",
    "    public ProjectManager(string name, string position, double salary, string department, string projectName) : base(name, position, salary, department)\n",
    "    {\n",
    "        ProjectName = projectName;\n",
    "    }\n",
    "    public override void PrintInfo()\n",
    "    {\n",
    "        base.PrintInfo();\n",
    "        Console.WriteLine($\"Название проекта: {ProjectName}\");\n",
    "    }\n",
    "\n",
    "// Реализация метода интерфейса IReportable\n",
    "    public string GenerateReport()\n",
    "    {\n",
    "        return $\"Проект {ProjectName} - ВЫПОЛНЕН\";\n",
    "    }\n",
    "\n",
    "    // Реализация метода интерфейса ITeamLeader\n",
    "    public string[] GetTeamMembers()\n",
    "    {\n",
    "        // Пример статического списка членов команды\n",
    "        return new string[] { \"Лера\", \"Настя\", \"Нина\" };\n",
    "    }\n",
    "}\n",
    "\n",
    "\n",
    "Employee employee = new Employee(\"Настя Косишнева\", \"Разработчик\", 100000);\n",
    "Manager manager = new Manager(\"Лера Шананина\", \"Менеджер по продажам\", 90000, \"Продажи\");\n",
    "ProjectManager projectManager = new ProjectManager(\"Сергей Попков\", \"Проектный менеджер\", 50000, \"ИТ\", \"Дизайн сайта\");\n",
    "\n",
    "employee.PrintInfo();\n",
    "Console.WriteLine();\n",
    "\n",
    "manager.PrintInfo();\n",
    "Console.WriteLine();\n",
    "\n",
    "projectManager.PrintInfo();\n",
    "Console.WriteLine();\n",
    "\n",
    " //тестирование \n",
    "Console.WriteLine(projectManager.GenerateReport());\n",
    "Console.WriteLine(\"Члены команды: \" + string.Join(\", \", projectManager.GetTeamMembers()));\n",
    "\n"
   ]
  }
 ],
 "metadata": {
  "kernelspec": {
   "display_name": ".NET (C#)",
   "language": "C#",
   "name": ".net-csharp"
  },
  "language_info": {
   "name": "csharp"
  },
  "polyglot_notebook": {
   "kernelInfo": {
    "defaultKernelName": "csharp",
    "items": [
     {
      "aliases": [],
      "name": "csharp"
     }
    ]
   }
  }
 },
 "nbformat": 4,
 "nbformat_minor": 2
}
